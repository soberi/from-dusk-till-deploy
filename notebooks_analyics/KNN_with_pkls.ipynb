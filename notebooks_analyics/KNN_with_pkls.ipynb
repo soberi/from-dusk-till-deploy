{
 "cells": [
  {
   "cell_type": "markdown",
   "metadata": {},
   "source": [
    "## The clear-cut version"
   ]
  },
  {
   "cell_type": "code",
   "execution_count": 1,
   "metadata": {},
   "outputs": [],
   "source": [
    "def print_recommendations(knn_output):\n",
    "    \n",
    "    with open('../pkl_cellar/movie_list.pkl', 'rb') as file:\n",
    "        movie_list = pickle.load(file)\n",
    "    \n",
    "    distances, indices = knn_output\n",
    "    m_selection = []\n",
    "    \n",
    "    for i,res in enumerate(zip(distances.flatten(), indices.flatten())):\n",
    "        distance, index = res\n",
    "        name = movie_list.iloc[index]['title']\n",
    "        if i == 0:\n",
    "            or_movie = f'Users who liked {name} also like:'\n",
    "        else:\n",
    "            m_selection.append(name)\n",
    "    \n",
    "    return or_movie, m_selection"
   ]
  },
  {
   "cell_type": "code",
   "execution_count": 2,
   "metadata": {},
   "outputs": [],
   "source": [
    "def movieid_vec(movie_id):\n",
    "    \n",
    "    with open('../pkl_cellar/movie_features.pkl', 'rb') as file:\n",
    "        movie_features = pickle.load(file)\n",
    "    \n",
    "    return movie_features.loc[movie_id].values.reshape(1, -1)"
   ]
  },
  {
   "cell_type": "code",
   "execution_count": 3,
   "metadata": {},
   "outputs": [],
   "source": [
    "def get_movieid(query):\n",
    "    \n",
    "    with open('../pkl_cellar/movie_map.pkl', 'rb') as file:\n",
    "        movie_map = pickle.load(file)\n",
    "    \n",
    "    matches = []\n",
    "    \n",
    "    for title, movie_id in movie_map.items():\n",
    "        \n",
    "        # removing the year\n",
    "        year_pattern = r'(.*)\\s\\(\\d{4}\\)$'\n",
    "        extr_title, = re.findall(year_pattern, title)\n",
    "        \n",
    "        # get fuzz ration and remove CAsE-sEnsITiVity\n",
    "        ratio = fuzz.ratio(extr_title.lower(), query)\n",
    "        \n",
    "        # ration must be more than 60 in order to match\n",
    "        if ratio > 60:\n",
    "            matches.append((extr_title, movie_id, ratio))\n",
    "    \n",
    "    if not matches:\n",
    "        print('Oops, we couldn\\'t find what you were looking for.')\n",
    "        return\n",
    "    \n",
    "    # sorts the list of matches, with the highest ratio on top\n",
    "    return sorted(matches, key=lambda x: x[2], reverse=True)[0][1]"
   ]
  },
  {
   "cell_type": "code",
   "execution_count": 4,
   "metadata": {},
   "outputs": [],
   "source": [
    "def recommend_movies(query, n=5):\n",
    "    \n",
    "    with open('../pkl_cellar/model_knn.pkl', 'rb') as file:\n",
    "        model_knn = pickle.load(file)\n",
    "    \n",
    "    movie_id = get_movieid(query)\n",
    "    if not movie_id:\n",
    "        return\n",
    "    \n",
    "    movie_vec = movieid_vec(movie_id)\n",
    "    \n",
    "    n_recs = n + 1\n",
    "    recs = model_knn.kneighbors(movie_vec, n_neighbors=n_recs)\n",
    "    \n",
    "    return print_recommendations(recs)"
   ]
  },
  {
   "cell_type": "markdown",
   "metadata": {},
   "source": [
    "### Checking if everything works"
   ]
  },
  {
   "cell_type": "code",
   "execution_count": 5,
   "metadata": {},
   "outputs": [
    {
     "data": {
      "text/plain": [
       "('Users who liked WALL·E (2008) also like:',\n",
       " ['Up (2009)',\n",
       "  'Iron Man (2008)',\n",
       "  'Avatar (2009)',\n",
       "  'Dark Knight, The (2008)',\n",
       "  'Inception (2010)'])"
      ]
     },
     "execution_count": 5,
     "metadata": {},
     "output_type": "execute_result"
    }
   ],
   "source": [
    "import pickle\n",
    "import re\n",
    "from fuzzywuzzy import fuzz\n",
    "\n",
    "recommend_movies('walley')"
   ]
  },
  {
   "cell_type": "markdown",
   "metadata": {},
   "source": [
    "### Checking output on frontend"
   ]
  },
  {
   "cell_type": "code",
   "execution_count": 6,
   "metadata": {},
   "outputs": [],
   "source": [
    "def run_recommender(query):\n",
    "    \n",
    "    #if request.method == 'POST':\n",
    "        #query = request.form['query']\n",
    "        if recommend_movies(query, n=5) is None:\n",
    "            error = \"Oops! Try again...\"\n",
    "            return error\n",
    "        else:\n",
    "            info, recommendation = recommend_movies(query, n=5)\n",
    "\n",
    "        #return render_template('index.html', output=recommendation)\n",
    "        #return '{}{}'.format(info, recommendation)\n",
    "        return recommendation"
   ]
  },
  {
   "cell_type": "code",
   "execution_count": 7,
   "metadata": {},
   "outputs": [
    {
     "name": "stdout",
     "output_type": "stream",
     "text": [
      "Oops, we couldn't find what you were looking for.\n"
     ]
    },
    {
     "data": {
      "text/plain": [
       "'Oops! Try again...'"
      ]
     },
     "execution_count": 7,
     "metadata": {},
     "output_type": "execute_result"
    }
   ],
   "source": [
    "run_recommender('purge')"
   ]
  },
  {
   "cell_type": "code",
   "execution_count": 8,
   "metadata": {},
   "outputs": [
    {
     "data": {
      "text/plain": [
       "list"
      ]
     },
     "execution_count": 8,
     "metadata": {},
     "output_type": "execute_result"
    }
   ],
   "source": [
    "type(run_recommender('toystory'))"
   ]
  }
 ],
 "metadata": {
  "kernelspec": {
   "display_name": "Python 3",
   "language": "python",
   "name": "python3"
  },
  "language_info": {
   "codemirror_mode": {
    "name": "ipython",
    "version": 3
   },
   "file_extension": ".py",
   "mimetype": "text/x-python",
   "name": "python",
   "nbconvert_exporter": "python",
   "pygments_lexer": "ipython3",
   "version": "3.8.5"
  }
 },
 "nbformat": 4,
 "nbformat_minor": 4
}
